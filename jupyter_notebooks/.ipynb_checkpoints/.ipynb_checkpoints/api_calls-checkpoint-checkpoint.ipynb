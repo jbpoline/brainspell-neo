{
 "cells": [
  {
   "cell_type": "code",
   "execution_count": 1,
   "metadata": {},
   "outputs": [
    {
     "ename": "ImportError",
     "evalue": "No module named 'json_api'",
     "output_type": "error",
     "traceback": [
      "\u001b[0;31m---------------------------------------------------------------------------\u001b[0m",
      "\u001b[0;31mImportError\u001b[0m                               Traceback (most recent call last)",
      "\u001b[0;32m<ipython-input-1-d1582177a7be>\u001b[0m in \u001b[0;36m<module>\u001b[0;34m()\u001b[0m\n\u001b[1;32m      2\u001b[0m \u001b[0msys\u001b[0m\u001b[0;34m.\u001b[0m\u001b[0mpath\u001b[0m\u001b[0;34m.\u001b[0m\u001b[0minsert\u001b[0m\u001b[0;34m(\u001b[0m\u001b[0;36m0\u001b[0m\u001b[0;34m,\u001b[0m \u001b[0;34m'../brainspell'\u001b[0m\u001b[0;34m)\u001b[0m\u001b[0;34m\u001b[0m\u001b[0m\n\u001b[1;32m      3\u001b[0m \u001b[0;34m\u001b[0m\u001b[0m\n\u001b[0;32m----> 4\u001b[0;31m \u001b[0;32mfrom\u001b[0m \u001b[0mjson_api\u001b[0m \u001b[0;32mimport\u001b[0m \u001b[0;34m*\u001b[0m\u001b[0;34m\u001b[0m\u001b[0m\n\u001b[0m\u001b[1;32m      5\u001b[0m \u001b[0;32mfrom\u001b[0m \u001b[0mgithub_collections\u001b[0m \u001b[0;32mimport\u001b[0m \u001b[0;34m*\u001b[0m\u001b[0;34m\u001b[0m\u001b[0m\n\u001b[1;32m      6\u001b[0m \u001b[0;32mfrom\u001b[0m \u001b[0mwebsockets\u001b[0m \u001b[0;32mimport\u001b[0m \u001b[0mapi_call\u001b[0m\u001b[0;34m\u001b[0m\u001b[0m\n",
      "\u001b[0;31mImportError\u001b[0m: No module named 'json_api'"
     ]
    }
   ],
   "source": [
    "import sys\n",
    "sys.path.insert(0, '../brainspell')\n",
    "\n",
    "from json_api import *\n",
    "from github_collections import *\n",
    "from websockets import api_call\n",
    "from pprint import PrettyPrinter as pp"
   ]
  },
  {
   "cell_type": "code",
   "execution_count": 2,
   "metadata": {},
   "outputs": [
    {
     "data": {
      "text/plain": [
       "{'articles': [{'authors': 'Mulert C,Leicht G,Pogarell O,Mergl R,Karch S,Juckel G,Möller HJ,Hegerl U',\n",
       "   'id': '17403530',\n",
       "   'title': 'Auditory cortex and anterior cingulate cortex sources of the early evoked gamma-band response: relationship to task difficulty and mental effort.'},\n",
       "  {'authors': 'Geng JJ,Eger E,Ruff CC,Kristjánsson A,Rotshtein P,Driver J',\n",
       "   'id': '16855105',\n",
       "   'title': 'On-line attentional selection from competing stimuli in opposite visual fields: effects on human visual cortex and control processes.'},\n",
       "  {'authors': 'Schneider MF,Krick CM,Retz W,Hengesch G,Retz-Junginger P,Reith W,Rösler M',\n",
       "   'id': '20558047',\n",
       "   'title': 'Impairment of fronto-striatal and parietal cerebral networks correlates with attention deficit hyperactivity disorder (ADHD) psychopathology in adults - a functional magnetic resonance imaging (fMRI) study.'},\n",
       "  {'authors': 'Kansaku K,Hanakawa T,Wu T,Hallett M',\n",
       "   'id': '15193621',\n",
       "   'title': 'A shared neural network for simple reaction time.'},\n",
       "  {'authors': 'Killgore WD,Yurgelun-Todd DA',\n",
       "   'id': '15050549',\n",
       "   'title': 'Activation of the amygdala and anterior cingulate during nonconscious processing of sad versus happy faces.'}],\n",
       " 'success': 1}"
      ]
     },
     "execution_count": 2,
     "metadata": {},
     "output_type": "execute_result"
    }
   ],
   "source": [
    "api_call(RandomQueryEndpointHandler)"
   ]
  },
  {
   "cell_type": "code",
   "execution_count": 20,
   "metadata": {},
   "outputs": [
    {
     "name": "stdout",
     "output_type": "stream",
     "text": [
      "{   'articles': [   {   'authors': 'Abe N,Suzuki M,Tsukiura T,Mori E,Yamaguchi '\n",
      "                                   'K,Itoh M,Fujii T',\n",
      "                        'id': '15858160',\n",
      "                        'title': 'Dissociable roles of prefrontal and anterior '\n",
      "                                 'cingulate cortices in deception.'},\n",
      "                    {   'authors': 'Abe N,Okuda J,Suzuki M,Sasaki H,Matsuda '\n",
      "                                   'T,Mori E,Tsukada M,Fujii T',\n",
      "                        'id': '18372290',\n",
      "                        'title': 'Neural correlates of true memory, false '\n",
      "                                 'memory, and deception.'},\n",
      "                    {   'authors': 'Abel S,Dressel K,Bitzer R,Kümmerer D,Mader '\n",
      "                                   'I,Weiller C,Huber W',\n",
      "                        'id': '19015036',\n",
      "                        'title': 'The separation of processing stages in a '\n",
      "                                 'lexical interference fMRI-paradigm.'},\n",
      "                    {   'authors': 'Abutalebi J,Annoni JM,Zimine I,Pegna '\n",
      "                                   'AJ,Seghier ML,Lee-Jahnke H,Lazeyras '\n",
      "                                   'F,Cappa SF,Khateb A',\n",
      "                        'id': '17947346',\n",
      "                        'title': 'Language control and lexical competition in '\n",
      "                                 'bilinguals: an event-related FMRI study.'},\n",
      "                    {   'authors': 'Adolph O,Köster S,Georgieff M,Bäder S,Föhr '\n",
      "                                   'KJ,Kammer T,Herrnberger B,Grön G',\n",
      "                        'id': '19703572',\n",
      "                        'title': 'Xenon-induced changes in CNS sensitization '\n",
      "                                 'to pain.'},\n",
      "                    {   'authors': 'Andoh J,Artiges E,Pallier C,Rivière '\n",
      "                                   'D,Mangin JF,Cachia A,Plaze '\n",
      "                                   'M,Paillère-Martinot ML,Martinot JL',\n",
      "                        'id': '16168674',\n",
      "                        'title': 'Modulation of language areas with functional '\n",
      "                                 'MR image-guided magnetic stimulation.'},\n",
      "                    {   'authors': 'Alain C,Reinke K,McDonald KL,Chau W,Tam '\n",
      "                                   'F,Pacurar A,Graham S',\n",
      "                        'id': '15907316',\n",
      "                        'title': 'Left thalamo-cortical network implicated in '\n",
      "                                 'successful speech separation and '\n",
      "                                 'identification.'},\n",
      "                    {   'authors': 'Alkadhi H,Brugger P,Boendermaker '\n",
      "                                   'SH,Crelier G,Curt A,Hepp-Reymond '\n",
      "                                   'MC,Kollias SS',\n",
      "                        'id': '15238440',\n",
      "                        'title': 'What disconnection tells about motor '\n",
      "                                 'imagery: evidence from paraplegic patients.'},\n",
      "                    {   'authors': 'Allen G,McColl R,Barnard H,Ringe '\n",
      "                                   'WK,Fleckenstein J,Cullum CM',\n",
      "                        'id': '16023375',\n",
      "                        'title': 'Magnetic resonance imaging of '\n",
      "                                 'cerebellar-prefrontal and '\n",
      "                                 'cerebellar-parietal functional '\n",
      "                                 'connectivity.'},\n",
      "                    {   'authors': 'Almli CR,Rivkin MJ,McKinstry RC, ',\n",
      "                        'id': '17239623',\n",
      "                        'title': 'The NIH MRI study of normal brain '\n",
      "                                 'development (Objective-2): newborns, '\n",
      "                                 'infants, toddlers, and preschoolers.'}],\n",
      "    'start_index': 0,\n",
      "    'success': 1}\n"
     ]
    },
    {
     "data": {
      "text/plain": [
       "'\\nsecond_call = api_call(QueryEndpointHandler, {\\n    \"q\": \"brain\",\\n     \\'start_index\\': 20\\n})\\npp4.pprint(second_call)\\n'"
      ]
     },
     "execution_count": 20,
     "metadata": {},
     "output_type": "execute_result"
    }
   ],
   "source": [
    "first_call = api_call(QueryEndpointHandler, {\n",
    "    \"q\": \"brain\"\n",
    "})\n",
    "\n",
    "\n",
    "pp4 = pp(indent=4)\n",
    "pp4.pprint(first_call)\n",
    "\n",
    "\"\"\"\n",
    "second_call = api_call(QueryEndpointHandler, {\n",
    "    \"q\": \"brain\",\n",
    "     'start_index': 20\n",
    "})\n",
    "pp4.pprint(second_call)\n",
    "\"\"\""
   ]
  },
  {
   "cell_type": "code",
   "execution_count": 4,
   "metadata": {},
   "outputs": [
    {
     "data": {
      "text/plain": [
       "{'abstract': 'The present study examined the neural correlates of evaluations of both lying and truth-telling in different social contexts using fMRI methodology. The results demonstrated the differentiation between lying and truth-telling and between different types of lying in a network of brain regions. These regions included bilateral superior frontal gyrus (SFG), bilateral inferior parietal lobule (IPL), bilateral cuneus, right lingual gyrus (LG), right precuneus, and left postcentral gyrus (PoCG). Additionally, we found that activations in the right LG, the left IPL and the left PoCG were correlated with the off-line evaluations of truthful and untruthful communications about good and bad acts in different social contexts. These results suggest that the judgments of lying and truth-telling involving a third party might not be emotion-arousing but involve rational processing. This study is among the first to demonstrate that evaluations of truthful and untruthful communications in different social contexts can be differentiated in terms of brain BOLD (blood-oxygen-level-dependent) activities.',\n",
       " 'authors': 'Wu D,Loke IC,Xu F,Lee K',\n",
       " 'doi': '10.1016/j.brainres.2011.02.084',\n",
       " 'experiments': \"[{'title': '', 'caption': '', 'locations': ['9,-87,-6', '-36,-45,63', '30,-72,39', '-36,-60,45', '-48,-42,54', '39,-51,54', '36,-54,45', '42,-60,48', '-39,39,36', '-51,-45,42', '-6,-93,6', '-6,-90,15', '6,-87,12', '6,-78,18', '18,54,24', '-21,57,24', '0,0,6', '-1,2,3,0'], 'id': 90000}, {'title': '', 'caption': '', 'locations': ['0,0,0,', '0,0,0,0', '0,0,0,3'], 'id': 90001}]\",\n",
       " 'id': 7313,\n",
       " 'metadata': '{\"space\":\"MNI\",\"meshHeadings\":[{\"name\":\"Adolescent\",\"majorTopic\":\"N\"},{\"name\":\"Adult\",\"majorTopic\":\"N\"},{\"name\":\"Brain\",\"majorTopic\":\"N\"},{\"name\":\"Brain Mapping\",\"majorTopic\":\"Y\"},{\"name\":\"Deception\",\"majorTopic\":\"Y\"},{\"name\":\"Emotions\",\"majorTopic\":\"N\"},{\"name\":\"Female\",\"majorTopic\":\"N\"},{\"name\":\"Humans\",\"majorTopic\":\"N\"},{\"name\":\"Image Interpretation, Computer-Assisted\",\"majorTopic\":\"N\"},{\"name\":\"Judgment\",\"majorTopic\":\"N\"},{\"name\":\"Magnetic Resonance Imaging\",\"majorTopic\":\"N\"},{\"name\":\"Male\",\"majorTopic\":\"N\"},{\"name\":\"Social Behavior\",\"majorTopic\":\"Y\"},{\"name\":\"Young Adult\",\"majorTopic\":\"N\"}]}',\n",
       " 'neurosynthid': '4027',\n",
       " 'pmid': '21382353',\n",
       " 'reference': 'Wu D, Loke IC, Xu F, Lee K (2011) Brain Res. 1389():115-24',\n",
       " 'success': 1,\n",
       " 'timestamp': None,\n",
       " 'title': 'Neural correlates of evaluations of lying and truth-telling in different social contexts.'}"
      ]
     },
     "execution_count": 4,
     "metadata": {},
     "output_type": "execute_result"
    }
   ],
   "source": [
    "response = api_call(ArticleEndpointHandler, {\n",
    "    \"pmid\": 21382353\n",
    "})\n",
    "response"
   ]
  },
  {
   "cell_type": "code",
   "execution_count": null,
   "metadata": {
    "collapsed": true
   },
   "outputs": [],
   "source": []
  }
 ],
 "metadata": {
  "kernelspec": {
   "display_name": "Python 3",
   "language": "python",
   "name": "python3"
  },
  "language_info": {
   "codemirror_mode": {
    "name": "ipython",
    "version": 3
   },
   "file_extension": ".py",
   "mimetype": "text/x-python",
   "name": "python",
   "nbconvert_exporter": "python",
   "pygments_lexer": "ipython3",
   "version": "3.5.1+"
  }
 },
 "nbformat": 4,
 "nbformat_minor": 2
}
